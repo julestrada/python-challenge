{
 "cells": [
  {
   "cell_type": "code",
   "execution_count": 58,
   "id": "b0f97375",
   "metadata": {},
   "outputs": [],
   "source": [
    "import csv\n",
    "\n",
    "import os\n",
    "\n"
   ]
  },
  {
   "cell_type": "code",
   "execution_count": 59,
   "id": "394dc0ae",
   "metadata": {},
   "outputs": [
    {
     "data": {
      "text/plain": [
       "[]"
      ]
     },
     "execution_count": 59,
     "metadata": {},
     "output_type": "execute_result"
    }
   ],
   "source": [
    "import csv\n",
    "\n",
    "\n",
    "csv_file_path = 'PyPoll/Resources/Election_data.csv'\n",
    "\n",
    "\n",
    "electiondata = []\n",
    "\n",
    "# Open and read the CSV file\n",
    "with open(csv_file_path, 'r') as csv_file:\n",
    "    csv_reader = csv.reader(csv_file)\n",
    " \n",
    "    header = next(csv_reader, None)\n",
    "    \n",
    "    for row in csv_reader:\n",
    "        data.append(row)\n",
    "\n",
    "\n",
    "electiondata\n"
   ]
  },
  {
   "cell_type": "code",
   "execution_count": 60,
   "id": "428f6633",
   "metadata": {},
   "outputs": [
    {
     "data": {
      "text/plain": [
       "[['Jan-10', '1088983'],\n",
       " ['Feb-10', '-354534'],\n",
       " ['Mar-10', '276622'],\n",
       " ['Apr-10', '-728133'],\n",
       " ['May-10', '852993'],\n",
       " ['Jun-10', '563721'],\n",
       " ['Jul-10', '-535208'],\n",
       " ['Aug-10', '632349'],\n",
       " ['Sep-10', '-173744'],\n",
       " ['Oct-10', '950741'],\n",
       " ['Nov-10', '-785750'],\n",
       " ['Dec-10', '-1194133'],\n",
       " ['Jan-11', '-589576'],\n",
       " ['Feb-11', '-883921'],\n",
       " ['Mar-11', '443564'],\n",
       " ['Apr-11', '837887'],\n",
       " ['May-11', '1081472'],\n",
       " ['Jun-11', '464033'],\n",
       " ['Jul-11', '-1066544'],\n",
       " ['Aug-11', '323846'],\n",
       " ['Sep-11', '-806551'],\n",
       " ['Oct-11', '487053'],\n",
       " ['Nov-11', '1128811'],\n",
       " ['Dec-11', '791398'],\n",
       " ['Jan-12', '739367'],\n",
       " ['Feb-12', '-197825'],\n",
       " ['Mar-12', '666016'],\n",
       " ['Apr-12', '589771'],\n",
       " ['May-12', '489290'],\n",
       " ['Jun-12', '-471439'],\n",
       " ['Jul-12', '120417'],\n",
       " ['Aug-12', '175347'],\n",
       " ['Sep-12', '855449'],\n",
       " ['Oct-12', '605195'],\n",
       " ['Nov-12', '-235220'],\n",
       " ['Dec-12', '347138'],\n",
       " ['Jan-13', '298510'],\n",
       " ['Feb-13', '163254'],\n",
       " ['Mar-13', '1141840'],\n",
       " ['Apr-13', '542630'],\n",
       " ['May-13', '99841'],\n",
       " ['Jun-13', '752765'],\n",
       " ['Jul-13', '-252949'],\n",
       " ['Aug-13', '914424'],\n",
       " ['Sep-13', '679524'],\n",
       " ['Oct-13', '514377'],\n",
       " ['Nov-13', '462102'],\n",
       " ['Dec-13', '159782'],\n",
       " ['Jan-14', '878810'],\n",
       " ['Feb-14', '-946748'],\n",
       " ['Mar-14', '340335'],\n",
       " ['Apr-14', '292032'],\n",
       " ['May-14', '502266'],\n",
       " ['Jun-14', '265852'],\n",
       " ['Jul-14', '851017'],\n",
       " ['Aug-14', '-549615'],\n",
       " ['Sep-14', '290162'],\n",
       " ['Oct-14', '755391'],\n",
       " ['Nov-14', '1073202'],\n",
       " ['Dec-14', '313000'],\n",
       " ['Jan-15', '241132'],\n",
       " ['Feb-15', '1036589'],\n",
       " ['Mar-15', '853904'],\n",
       " ['Apr-15', '-388932'],\n",
       " ['May-15', '982952'],\n",
       " ['Jun-15', '537759'],\n",
       " ['Jul-15', '547784'],\n",
       " ['Aug-15', '-496214'],\n",
       " ['Sep-15', '854181'],\n",
       " ['Oct-15', '934719'],\n",
       " ['Nov-15', '-288531'],\n",
       " ['Dec-15', '-184383'],\n",
       " ['Jan-16', '659541'],\n",
       " ['Feb-16', '-1149123'],\n",
       " ['Mar-16', '355882'],\n",
       " ['Apr-16', '662284'],\n",
       " ['May-16', '518681'],\n",
       " ['Jun-16', '-748256'],\n",
       " ['Jul-16', '-910775'],\n",
       " ['Aug-16', '951227'],\n",
       " ['Sep-16', '898241'],\n",
       " ['Oct-16', '-729004'],\n",
       " ['Nov-16', '-112209'],\n",
       " ['Dec-16', '516313'],\n",
       " ['Jan-17', '607208'],\n",
       " ['Feb-17', '382539']]"
      ]
     },
     "execution_count": 60,
     "metadata": {},
     "output_type": "execute_result"
    }
   ],
   "source": [
    "import csv\n",
    "\n",
    "\n",
    "csv_file_path = 'PyPoll/Resources/budget_data.csv'\n",
    "\n",
    "\n",
    "data = []\n",
    "\n",
    "\n",
    "with open(csv_file_path, 'r') as csv_file:\n",
    "    csv_reader = csv.reader(csv_file)\n",
    "    \n",
    "\n",
    "    header = next(csv_reader, None)\n",
    "\n",
    "    for row in csv_reader:\n",
    "        data.append(row)\n",
    "\n",
    "\n",
    "data\n"
   ]
  },
  {
   "cell_type": "code",
   "execution_count": 61,
   "id": "9d2a905e",
   "metadata": {},
   "outputs": [],
   "source": [
    "\n",
    "data_dict_list = []\n",
    "\n",
    "\n",
    "for row in data:\n",
    "\n",
    "    row_dict = {}\n",
    "  \n",
    "    for i, column_name in enumerate(header):\n",
    "        row_dict[column_name] = row[i]\n",
    "\n",
    "    data_dict_list.append(row_dict)\n",
    "\n",
    "\n",
    "\n"
   ]
  },
  {
   "cell_type": "code",
   "execution_count": 62,
   "id": "0969cc03",
   "metadata": {},
   "outputs": [
    {
     "name": "stdout",
     "output_type": "stream",
     "text": [
      "Total number of months included in the dataset: 86\n"
     ]
    }
   ],
   "source": [
    "# Calculate the total number of months in the dataset\n",
    "total_months = len(data_dict_list)\n",
    "\n",
    "print(f'Total number of months included in the dataset: {total_months}')\n"
   ]
  },
  {
   "cell_type": "code",
   "execution_count": 63,
   "id": "c14f7dcc",
   "metadata": {},
   "outputs": [
    {
     "name": "stdout",
     "output_type": "stream",
     "text": [
      "Net total amount of \"Profit/Losses\" over the entire period: $22564198\n"
     ]
    }
   ],
   "source": [
    "\n",
    "net_total = 0\n",
    "\n",
    "\n",
    "for row in data_dict_list:\n",
    "\n",
    "    net_total += int(row['Profit/Losses'])\n",
    "\n",
    "print(f'Net total amount of \"Profit/Losses\" over the entire period: ${net_total}')\n",
    "\n",
    "\n"
   ]
  },
  {
   "cell_type": "code",
   "execution_count": 64,
   "id": "80fd2e02",
   "metadata": {},
   "outputs": [
    {
     "name": "stdout",
     "output_type": "stream",
     "text": [
      "Total changes in \"Profit/Losses\" over the entire period: $-706444\n",
      "Average change in \"Profit/Losses\": $-8311.11\n"
     ]
    }
   ],
   "source": [
    "# Initialize variables\n",
    "total_changes = 0\n",
    "previous_profit_loss = None\n",
    "count = 0\n",
    "\n",
    "\n",
    "for row in data_dict_list:\n",
    "\n",
    "    current_profit_loss = int(row['Profit/Losses'])\n",
    "    \n",
    " \n",
    "    if previous_profit_loss is not None:\n",
    "        # Calculate the change in \"Profit/Losses\" and add it to the total changes\n",
    "        change = current_profit_loss - previous_profit_loss\n",
    "        total_changes += change\n",
    "        count += 1\n",
    "\n",
    "    previous_profit_loss = current_profit_loss\n",
    "\n",
    "average_change = total_changes / count\n",
    "\n",
    "print(f'Total changes in \"Profit/Losses\" over the entire period: ${total_changes}')\n",
    "print(f'Average change in \"Profit/Losses\": ${average_change:.2f}')\n"
   ]
  },
  {
   "cell_type": "code",
   "execution_count": 65,
   "id": "7bba9471",
   "metadata": {},
   "outputs": [
    {
     "name": "stdout",
     "output_type": "stream",
     "text": [
      "The greatest increase in profits occurred on Mar-13 with an amount of $1141840\n",
      "The greatest decrease in profits occurred on Dec-10 with an amount of $-1194133\n"
     ]
    }
   ],
   "source": [
    "\n",
    "greatest_increase = {'date': None, 'amount': 0}\n",
    "greatest_decrease = {'date': None, 'amount': 0}\n",
    "\n",
    "for row in data_dict_list:\n",
    "    # Get the \"Profit/Losses\" value as an integer\n",
    "    profit_loss = int(row['Profit/Losses'])\n",
    "    \n",
    "\n",
    "    if profit_loss > greatest_increase['amount']:\n",
    "        greatest_increase['date'] = row['Date']\n",
    "        greatest_increase['amount'] = profit_loss\n",
    "    \n",
    "\n",
    "    if profit_loss < greatest_decrease['amount']:\n",
    "        greatest_decrease['date'] = row['Date']\n",
    "        greatest_decrease['amount'] = profit_loss\n",
    "\n",
    "print(f'The greatest increase in profits occurred on {greatest_increase[\"date\"]} with an amount of ${greatest_increase[\"amount\"]}')\n",
    "print(f'The greatest decrease in profits occurred on {greatest_decrease[\"date\"]} with an amount of ${greatest_decrease[\"amount\"]}')\n"
   ]
  },
  {
   "cell_type": "code",
   "execution_count": 54,
   "id": "29042e3c",
   "metadata": {},
   "outputs": [
    {
     "name": "stdout",
     "output_type": "stream",
     "text": [
      "Total number of votes cast: 369797\n"
     ]
    }
   ],
   "source": [
    "# Calculate the total number of votes cast\n",
    "total_votes_cast = len(data)\n",
    "\n",
    "print(f'Total number of votes cast: {total_votes_cast}')\n"
   ]
  },
  {
   "cell_type": "code",
   "execution_count": 1,
   "id": "1452fc35",
   "metadata": {},
   "outputs": [
    {
     "name": "stdout",
     "output_type": "stream",
     "text": [
      "Output has been saved to output.txt\n"
     ]
    }
   ],
   "source": [
    "# Define the output text\n",
    "output_text = \"\"\"Total number of months included in the dataset: 86\n",
    "Net total amount of \"Profit/Losses\" over the entire period: $22564198 \n",
    "Total changes in \"Profit/Losses\" over the entire period: $-706444 \n",
    "Average change in \"Profit/Losses\": $-8311.11 \n",
    "The greatest increase in profits occurred on Mar-13 with an amount of $1141840 \n",
    "The greatest decrease in profits occurred on Dec-10 with an amount of $-1194133\n",
    "Total number of votes cast: 369797\n",
    "\"\"\"\n",
    "\n",
    "# Specify the file path where you want to save the output\n",
    "file_path = \"output.txt\"\n",
    "\n",
    "# Save the output text to the specified file\n",
    "with open(file_path, \"w\") as file:\n",
    "    file.write(output_text)\n",
    "\n",
    "# Confirm that the file has been saved\n",
    "print(f\"Output has been saved to {file_path}\")\n",
    "\n",
    "\n"
   ]
  },
  {
   "cell_type": "code",
   "execution_count": null,
   "id": "e39416b7",
   "metadata": {},
   "outputs": [],
   "source": []
  }
 ],
 "metadata": {
  "kernelspec": {
   "display_name": "Python 3 (ipykernel)",
   "language": "python",
   "name": "python3"
  },
  "language_info": {
   "codemirror_mode": {
    "name": "ipython",
    "version": 3
   },
   "file_extension": ".py",
   "mimetype": "text/x-python",
   "name": "python",
   "nbconvert_exporter": "python",
   "pygments_lexer": "ipython3",
   "version": "3.11.4"
  }
 },
 "nbformat": 4,
 "nbformat_minor": 5
}
